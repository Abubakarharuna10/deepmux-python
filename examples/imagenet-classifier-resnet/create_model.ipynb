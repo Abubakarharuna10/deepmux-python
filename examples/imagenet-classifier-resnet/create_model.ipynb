{
 "cells": [
  {
   "cell_type": "markdown",
   "metadata": {},
   "source": [
    "# Create and upload model\n",
    "\n",
    "This notebook gets a **resnet18** model from PyTorch hub and uploads it to deepmux servers.\n",
    "\n",
    "You should replace token value in the cell below with your token and simply run all cells."
   ]
  },
  {
   "cell_type": "code",
   "execution_count": null,
   "metadata": {},
   "outputs": [],
   "source": [
    "token = '<YOUR TOKEN HERE>'"
   ]
  },
  {
   "cell_type": "code",
   "execution_count": null,
   "metadata": {
    "pycharm": {
     "is_executing": false
    }
   },
   "outputs": [],
   "source": [
    "import torch\n",
    "from deepmux import create_model"
   ]
  },
  {
   "cell_type": "code",
   "execution_count": null,
   "metadata": {
    "pycharm": {
     "is_executing": false,
     "name": "#%%\n"
    }
   },
   "outputs": [],
   "source": [
    "pytorch_model = torch.hub.load('pytorch/vision:v0.5.0', 'resnet18', pretrained=True)"
   ]
  },
  {
   "cell_type": "code",
   "execution_count": null,
   "metadata": {
    "pycharm": {
     "is_executing": false,
     "name": "#%%\n"
    }
   },
   "outputs": [],
   "source": [
    "create_model(\n",
    "    pytorch_model,\n",
    "    model_name='imagenet-classifier-resnet',\n",
    "    input_shape=[1, 3, 224, 224],\n",
    "    output_shape=[1, 1000],\n",
    "    token=token)\n",
    "\n",
    "print(\"Model uploaded, ready to serve\")"
   ]
  }
 ],
 "metadata": {
  "kernelspec": {
   "display_name": "Python 3.7.5 64-bit ('3.7.5': pyenv)",
   "language": "python",
   "name": "python37564bit375pyenv607cf47a07ac4cd0b12a55b7116b842c"
  },
  "language_info": {
   "codemirror_mode": {
    "name": "ipython",
    "version": 3
   },
   "file_extension": ".py",
   "mimetype": "text/x-python",
   "name": "python",
   "nbconvert_exporter": "python",
   "pygments_lexer": "ipython3",
   "version": "3.7.5"
  },
  "pycharm": {
   "stem_cell": {
    "cell_type": "raw",
    "metadata": {
     "collapsed": false
    },
    "source": []
   }
  }
 },
 "nbformat": 4,
 "nbformat_minor": 1
}
